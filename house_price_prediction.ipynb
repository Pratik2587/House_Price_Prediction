{
 "cells": [
  {
   "cell_type": "markdown",
   "metadata": {},
   "source": [
    "import the needed libraries and then read the data"
   ]
  },
  {
   "cell_type": "code",
   "execution_count": 1,
   "metadata": {},
   "outputs": [],
   "source": [
    "import matplotlib.pyplot as plt\n",
    "import csv\n",
    "from scipy.stats import spearmanr\n",
    "import numpy as np\n",
    "from sklearn.linear_model import LinearRegression\n",
    "\n",
    "Data=[]\n",
    "with open('C://Users//mypratik//Downloads//house-prices-advanced-regression-techniques//train.csv', newline='') as f:\n",
    "    reader = csv.reader(f)\n",
    "    for row in reader:\n",
    "        Data.append(row[1:])"
   ]
  },
  {
   "cell_type": "markdown",
   "metadata": {},
   "source": [
    "We define convertonum to convert the data to numeric, inver to go from column to row or the inverse, isnumeric to check if a variable is convertible."
   ]
  },
  {
   "cell_type": "code",
   "execution_count": 2,
   "metadata": {},
   "outputs": [],
   "source": [
    "def convertonum(D):\n",
    "    for i in range(len(D)):\n",
    "        for j in range(len(D[i])):\n",
    "            if isnumeric(D[i][j]):\n",
    "                D[i][j]=float(D[i][j])\n",
    "def invers(L):\n",
    "    K=[]\n",
    "    for i in range(len(L[0])):\n",
    "        K.append([L[0][i]])\n",
    "    for j in range(1,len(L)):\n",
    "        for i in range(len(L[0])):\n",
    "            K[i].append(L[j][i])\n",
    "    return K\n",
    "def isnumeric(s):\n",
    "    '''returns True if s is numeric'''\n",
    "    return all(c in \"0123456789.+-\" for c in s)\n",
    "Datacol=invers(Data)"
   ]
  },
  {
   "cell_type": "markdown",
   "metadata": {},
   "source": [
    "We replace all the variables type categories with the mean of the price when it appears."
   ]
  },
  {
   "cell_type": "code",
   "execution_count": 3,
   "metadata": {},
   "outputs": [
    {
     "name": "stdout",
     "output_type": "stream",
     "text": [
      "['RL', 'RM', 'C (all)', 'FV', 'RH'] [191004.99478714136, 126316.83027522937, 74528.0, 214014.06153846145, 131558.37499999997]\n",
      "['Pave', 'Grvl'] [181130.53851444306, 130190.5]\n",
      "['NA', 'Grvl', 'Pave'] [183452.1314828338, 122219.07999999999, 168000.58536585377]\n",
      "['Reg', 'IR1', 'IR2', 'IR3'] [164754.8183783785, 206101.66528925594, 239833.3658536586, 216036.50000000003]\n",
      "['Lvl', 'Bnk', 'Low', 'HLS'] [180183.74675819985, 143104.07936507935, 203661.11111111104, 231533.93999999997]\n",
      "['AllPub', 'NoSeWa'] [180950.95681973943, 137500.0]\n",
      "['Inside', 'FR2', 'Corner', 'CulDSac', 'FR3'] [176938.04752851714, 177934.574468085, 181623.42585551317, 223854.61702127664, 208475.0]\n",
      "['Gtl', 'Mod', 'Sev'] [179956.79956584665, 196734.13846153842, 204379.23076923078]\n",
      "['CollgCr', 'Veenker', 'Crawfor', 'NoRidge', 'Mitchel', 'Somerst', 'NWAmes', 'OldTown', 'BrkSide', 'Sawyer', 'NridgHt', 'NAmes', 'SawyerW', 'IDOTRR', 'MeadowV', 'Edwards', 'Timber', 'Gilbert', 'StoneBr', 'ClearCr', 'NPkVill', 'Blmngtn', 'BrDale', 'SWISU', 'Blueste'] [197965.77333333352, 238772.72727272726, 210624.72549019603, 335295.31707317074, 156270.12244897964, 225379.83720930235, 189050.06849315073, 128225.30088495577, 124834.05172413793, 136793.13513513515, 316270.62337662326, 145847.08000000007, 186555.79661016943, 100123.78378378379, 98576.47058823529, 128219.70000000001, 242247.44736842098, 192854.5063291139, 310499.00000000006, 212565.42857142852, 142694.44444444444, 194870.88235294115, 104493.74999999999, 142591.36000000002, 137500.0]\n",
      "['Norm', 'Feedr', 'PosN', 'Artery', 'RRAe', 'RRNn', 'RRAn', 'PosA', 'RRNe'] [184495.49206349213, 142475.48148148146, 215184.2105263158, 135091.66666666657, 138400.0, 212400.0, 184396.61538461538, 225875.0, 190750.0]\n",
      "['Norm', 'Artery', 'RRNn', 'Feedr', 'PosN', 'PosA', 'RRAn', 'RRAe'] [181169.40553633208, 106500.0, 96750.0, 121166.66666666667, 284875.0, 325000.0, 136905.0, 190000.0]\n",
      "['1Fam', '2fmCon', 'Duplex', 'TwnhsE', 'Twnhs'] [185763.80737704923, 128432.25806451614, 133541.0769230769, 181959.3421052632, 135911.62790697673]\n",
      "['2Story', '1Story', '1.5Fin', '1.5Unf', 'SFoyer', 'SLvl', '2.5Unf', '2.5Fin'] [210051.76404494382, 175985.47796143257, 143116.7402597403, 110149.99999999999, 135074.48648648654, 166703.38461538462, 157354.54545454544, 220000.0]\n",
      "['Gable', 'Hip', 'Gambrel', 'Mansard', 'Flat', 'Shed'] [171483.95617879025, 218876.93356643367, 148909.0909090909, 180568.4285714286, 194690.0, 225000.0]\n",
      "['CompShg', 'WdShngl', 'Metal', 'WdShake', 'Membran', 'Tar&Grv', 'Roll', 'ClyTile'] [179803.67921896753, 390250.0, 180000.0, 241400.0, 241500.0, 185406.36363636362, 137000.0, 160000.0]\n",
      "['VinylSd', 'MetalSd', 'Wd Sdng', 'HdBoard', 'BrkFace', 'WdShing', 'CemntBd', 'Plywood', 'AsbShng', 'Stucco', 'BrkComm', 'AsphShn', 'Stone', 'ImStucc', 'CBlock'] [213732.9009708737, 149422.17727272728, 149841.64563106795, 163077.45045045053, 194572.9999999999, 150655.07692307694, 231690.65573770477, 175942.3796296298, 107385.54999999999, 162989.99999999997, 71000.0, 100000.0, 258500.0, 262000.0, 105000.0]\n",
      "['VinylSd', 'MetalSd', 'Wd Shng', 'HdBoard', 'Plywood', 'Wd Sdng', 'CmentBd', 'BrkFace', 'Stucco', 'AsbShng', 'Brk Cmn', 'ImStucc', 'AsphShn', 'Stone', 'Other', 'CBlock'] [214432.4603174605, 149803.17289719617, 161328.94736842107, 167661.56521739127, 168112.38732394375, 148386.06598984764, 230093.83333333323, 195818.0, 155905.15384615376, 114060.55, 126714.28571428572, 252070.0, 138000.0, 158224.80000000002, 319000.0, 105000.0]\n",
      "['BrkFace', 'None', 'Stone', 'BrkCmn', 'NA'] [204691.87191011236, 156221.89120370385, 265583.62500000006, 146318.06666666668, 236484.25]\n",
      "['Gd', 'TA', 'Ex', 'Fa'] [231633.51024590142, 144341.31346578375, 367360.96153846156, 87985.21428571429]\n",
      "['TA', 'Gd', 'Fa', 'Po', 'Ex'] [184034.89625584972, 168897.5684931507, 102595.14285714284, 76500.0, 201333.33333333334]\n",
      "['PConc', 'CBlock', 'BrkTil', 'Wood', 'Slab', 'Stone'] [225230.4420401859, 149805.71451104138, 132291.07534246577, 185666.66666666666, 107365.62499999999, 165959.16666666666]\n",
      "['Gd', 'TA', 'Ex', 'NA', 'Fa'] [202688.47896440118, 140759.818181818, 327041.04132231424, 105652.89189189186, 115692.0285714286]\n",
      "['TA', 'Gd', 'NA', 'Fa', 'Po'] [183632.62090007588, 213599.90769230764, 105652.89189189186, 121809.53333333333, 64000.0]\n",
      "['No', 'Gd', 'Mn', 'Av', 'NA'] [165652.2959076597, 257689.8059701493, 192789.6578947368, 206643.42081447953, 107938.34210526315]\n",
      "['GLQ', 'ALQ', 'Unf', 'Rec', 'BLQ', 'NA', 'LwQ'] [235413.72009569366, 161573.06818181815, 170670.57674418608, 146889.2481203008, 149493.65540540544, 105652.89189189186, 151852.7027027028]\n",
      "['Unf', 'BLQ', 'NA', 'ALQ', 'Rec', 'LwQ', 'GLQ'] [184694.69028662393, 151101.00000000003, 110346.23684210527, 209942.10526315792, 164917.12962962958, 164364.13043478256, 180982.14285714284]\n",
      "['GasA', 'GasW', 'Grav', 'Wall', 'OthW', 'Floor'] [182021.19537815102, 166632.1666666667, 75271.42857142857, 92100.0, 125750.0, 72500.0]\n",
      "['Ex', 'Gd', 'TA', 'Fa', 'Po'] [214914.42914979783, 156858.8713692945, 142362.87616822447, 123919.48979591837, 87000.0]\n",
      "['Y', 'N'] [186186.7098901097, 105264.07368421053]\n",
      "['SBrkr', 'FuseF', 'FuseA', 'FuseP', 'Mix', 'NA'] [186825.113193403, 107675.44444444444, 122196.89361702127, 97333.33333333333, 67000.0, 167500.0]\n",
      "['Gd', 'TA', 'Ex', 'Fa'] [212116.02389078488, 139962.51156462554, 328554.67000000004, 105565.20512820513]\n",
      "['Typ', 'Min1', 'Maj1', 'Min2', 'Mod', 'Maj2', 'Sev'] [183429.1470588232, 146385.4838709677, 153948.14285714287, 144240.64705882352, 168393.33333333334, 85800.0, 129000.0]\n",
      "['NA', 'TA', 'Gd', 'Fa', 'Ex', 'Po'] [141331.48260869566, 205723.48881789148, 226351.41578947366, 167298.4848484848, 337712.5, 129764.14999999998]\n",
      "['Attchd', 'Detchd', 'BuiltIn', 'CarPort', 'NA', 'Basment', '2Types'] [202892.6563218393, 134091.16279069742, 254751.7386363636, 109962.11111111111, 103317.28395061735, 160570.68421052635, 151283.33333333334]\n",
      "['RFn', 'Unf', 'Fin', 'NA'] [202068.8696682464, 142156.42314049584, 240052.69034090932, 103317.28395061735]\n",
      "['TA', 'Fa', 'Gd', 'NA', 'Ex', 'Po'] [187489.83600305126, 123573.35416666661, 215860.7142857143, 103317.28395061735, 241000.0, 100166.66666666667]\n",
      "['TA', 'Fa', 'NA', 'Gd', 'Po', 'Ex'] [187885.735294117, 114654.0285714286, 103317.28395061735, 179930.0, 108500.0, 124000.0]\n",
      "['Y', 'N', 'P'] [186433.97388059722, 115039.12222222221, 132329.99999999997]\n",
      "['NA', 'Ex', 'Fa', 'Gd'] [180404.66345492055, 490000.0, 215500.0, 201990.0]\n",
      "['NA', 'MnPrv', 'GdWo', 'GdPrv', 'MnWw'] [187596.83799830338, 148751.08917197477, 140379.3148148149, 178927.45762711857, 134286.36363636365]\n",
      "['NA', 'Shed', 'Gar2', 'Othr', 'TenC'] [182046.41038406815, 151187.61224489787, 170750.0, 94000.0, 250000.0]\n",
      "['WD', 'New', 'COD', 'ConLD', 'ConLI', 'CWD', 'ConLw', 'Con', 'Oth'] [173401.83662194145, 274945.418032787, 143973.25581395344, 138780.88888888888, 200390.0, 210600.0, 143700.0, 269600.0, 119850.0]\n",
      "['Normal', 'Abnorml', 'Partial', 'AdjLand', 'Alloca', 'Family'] [175202.2195325543, 146526.62376237626, 272291.75200000004, 104125.0, 167377.41666666666, 149600.0]\n"
     ]
    }
   ],
   "source": [
    "T=[]\n",
    "U=[]\n",
    "V=[]\n",
    "for i in range(len(Data[1])):\n",
    "    if not isnumeric(Data[1][i]):\n",
    "        t=[]\n",
    "        u=[]\n",
    "        v=[]\n",
    "        for j in range(1,len(Datacol[i])):\n",
    "            if Datacol[i][j] not in t:\n",
    "                t.append(Datacol[i][j])\n",
    "                u.append(float(Datacol[len(Datacol)-1][j]))\n",
    "                v.append(1)\n",
    "            else:\n",
    "                u[t.index(Datacol[i][j])]=(u[t.index(Datacol[i][j])]*(v[t.index(Datacol[i][j])]/(v[t.index(Datacol[i][j])]+1)))+float(Datacol[len(Datacol)-1][j])/(v[t.index(Datacol[i][j])]+1)\n",
    "                v[t.index(Datacol[i][j])]=v[t.index(Datacol[i][j])]+1\n",
    "        for j in range(1,len(Datacol[i])):\n",
    "            Datacol[i][j]=str(u[t.index(Datacol[i][j])])\n",
    "        T.append(t)\n",
    "        print(t,u)\n",
    "        U.append(u)\n",
    "        V.append(v)"
   ]
  },
  {
   "cell_type": "markdown",
   "metadata": {},
   "source": [
    "A function that calulates the mean of a variable and then replace all the NAs with the mean value of the vector."
   ]
  },
  {
   "cell_type": "code",
   "execution_count": 4,
   "metadata": {},
   "outputs": [],
   "source": [
    "def meann(L):\n",
    "    s=0\n",
    "    m=0\n",
    "    for i in range(1,len(L)):\n",
    "        if L[i]!='NA':\n",
    "            m=(m*(s/(s+1)))+float(L[i])/(s+1)\n",
    "            s=s+1\n",
    "    return m\n",
    "for i in range(len(Datacol)):\n",
    "    m=meann(Datacol[i])\n",
    "    for j in range(1,len(Datacol[i])):\n",
    "        if Datacol[i][j]=='NA':\n",
    "            Datacol[i][j]=str(m)"
   ]
  },
  {
   "cell_type": "markdown",
   "metadata": {},
   "source": [
    "Converting to numeric."
   ]
  },
  {
   "cell_type": "code",
   "execution_count": 5,
   "metadata": {},
   "outputs": [],
   "source": [
    "convertonum(Datacol)"
   ]
  },
  {
   "cell_type": "markdown",
   "metadata": {},
   "source": [
    "Detecting all the variables that has a big corelation with the price, in this case that has a spearman coefficient bigger than 0.65. We save the vectors in a new data."
   ]
  },
  {
   "cell_type": "code",
   "execution_count": 6,
   "metadata": {},
   "outputs": [
    {
     "name": "stdout",
     "output_type": "stream",
     "text": [
      "11     Neighborhood  :  0.7557789170655118\n",
      "16     OverallQual  :  0.8098285862017292\n",
      "18     YearBuilt  :  0.6526815462850586\n",
      "26     ExterQual  :  0.6840137963904298\n",
      "29     BsmtQual  :  0.6780262530716648\n",
      "45     GrLivArea  :  0.7313095834659141\n",
      "52     KitchenQual  :  0.6728485475386915\n",
      "60     GarageCars  :  0.6907109670497434\n"
     ]
    }
   ],
   "source": [
    "b=0.65\n",
    "Datacol2=[]\n",
    "Var=[]\n",
    "for i in range(len(Datacol)-1):\n",
    "    corr, _ = spearmanr(Datacol[i][1:], Datacol[len(Datacol)-1][1:])\n",
    "    if corr>b or corr<-b:\n",
    "        Datacol2.append(Datacol[i][1:])\n",
    "        Var.append(i)\n",
    "        print(i,\"   \", Datacol[i][0],\" : \",corr)"
   ]
  },
  {
   "cell_type": "markdown",
   "metadata": {},
   "source": [
    "We make two model, model1 using all the variables, and model2 using only the most consisting ones."
   ]
  },
  {
   "cell_type": "code",
   "execution_count": 7,
   "metadata": {
    "scrolled": true
   },
   "outputs": [
    {
     "name": "stdout",
     "output_type": "stream",
     "text": [
      "coefficient of determination model1: 0.8780227650996848\n",
      "intercept model1: -878368.3086590454\n",
      "slope model1: [-2.07414985e+02  2.32847069e-02 -1.30239947e+02  1.96480281e-01\n",
      "  3.90716453e-01  1.04901501e-01 -4.49603778e-02  1.84125966e-01\n",
      "  2.05638155e+00  2.15305479e-01  2.31221057e-02  2.81163510e-01\n",
      "  2.21595757e-01 -3.46465378e-01 -1.82119900e-01 -8.59404723e-02\n",
      "  7.44334245e+03  5.38060422e+03 -1.80407377e+01 -9.67955701e+01\n",
      "  1.12706709e-01  3.71099006e-01  6.34093658e-02  1.82012170e-02\n",
      " -4.79656340e-02  2.43867907e+01  8.30390763e-02 -2.14852303e-02\n",
      " -8.50658268e-03  1.38128954e-01 -2.72432338e-02  2.08474173e-01\n",
      "  1.75312231e-02  4.66880762e+00 -1.93913247e-02  1.14563885e+00\n",
      " -5.85177726e+00 -3.73307916e-02  2.60884797e-02  3.94974728e-02\n",
      "  6.65196152e-03 -8.14954395e-02  2.38576528e+01  1.77670163e+01\n",
      " -2.10844644e+01  2.05402047e+01  4.48260098e+03 -1.98904858e+03\n",
      "  3.92348201e+03  2.70752444e+03 -1.46117460e+03 -1.38708324e+04\n",
      "  1.36720230e-01  3.93840903e+03  2.71566321e-01  4.24798556e+03\n",
      "  1.41644506e-02 -1.61373179e-02 -1.00965223e+00 -4.82184969e-03\n",
      "  7.57885824e+03  3.57760279e+00  6.24261981e-02 -9.91382578e-02\n",
      "  1.11401995e-02  1.40690971e+01  1.46252767e+01 -7.12619085e+00\n",
      "  3.35700289e+01  5.17440972e+01 -1.03228886e+02  6.90616189e-01\n",
      " -3.34178924e-02 -6.22981580e-02  2.02197621e-01 -4.35477674e+02\n",
      "  1.25200830e+02  6.71474324e-02  1.14553701e-01]\n",
      "coefficient of determination model2: 0.8110876946579231\n",
      "intercept model2: 27907.881812486943\n",
      "slope model2: [ 3.18493875e-01  9.96049601e+03 -7.33165939e+01  6.87687538e-02\n",
      "  2.15525069e-01  4.88729980e+01  1.89378979e-01  1.09798536e+04]\n"
     ]
    }
   ],
   "source": [
    "Input=[]\n",
    "for i in range(len(Datacol)-1):\n",
    "    Input.append(Datacol[i][1:])\n",
    "Input=invers(Input)\n",
    "Input2=invers(Datacol2)\n",
    "Output=Datacol[len(Datacol)-1][1:]\n",
    "x1, x2, y = np.array(Input), np.array(Input2), np.array(Output)\n",
    "model1 = LinearRegression().fit(x1, y)\n",
    "r_sq = model1.score(x1, y)\n",
    "print('coefficient of determination model1:', r_sq)\n",
    "print('intercept model1:', model1.intercept_)\n",
    "print('slope model1:', model1.coef_)\n",
    "model2 = LinearRegression().fit(x2, y)\n",
    "r_sq = model2.score(x2, y)\n",
    "print('coefficient of determination model2:', r_sq)\n",
    "print('intercept model2:', model2.intercept_)\n",
    "print('slope model2:', model2.coef_)"
   ]
  },
  {
   "cell_type": "markdown",
   "metadata": {},
   "source": [
    "The second model,is better than the first, because we don't lose a lot in the coefficient of determination but we have a more resonable intercept."
   ]
  },
  {
   "cell_type": "markdown",
   "metadata": {},
   "source": [
    "we should now prepare the test data because it's possible that is has categories that didn't appear in the train data."
   ]
  },
  {
   "cell_type": "code",
   "execution_count": 8,
   "metadata": {},
   "outputs": [],
   "source": [
    "Test=[]\n",
    "with open('C://Users//mypratik//Downloads//house-prices-advanced-regression-techniques//test.csv', newline='') as f:\n",
    "    reader = csv.reader(f)\n",
    "    for row in reader:\n",
    "        Test.append(row[1:])"
   ]
  },
  {
   "cell_type": "code",
   "execution_count": 9,
   "metadata": {},
   "outputs": [],
   "source": [
    "Testcol=invers(Test)\n",
    "c=0\n",
    "m=meann(Datacol[len(Datacol)-1])\n",
    "for i in range(len(Test[1])):\n",
    "    if not isnumeric(Test[1][i]):\n",
    "        for j in range(1,len(Testcol[i])):\n",
    "            if Testcol[i][j] in T[c]:\n",
    "                Testcol[i][j]=str(U[c][T[c].index(Testcol[i][j])])\n",
    "            else :\n",
    "                Testcol[i][j]=str(m)\n",
    "        c=c+1\n",
    "for i in range(len(Testcol)):\n",
    "    m=meann(Testcol[i])\n",
    "    for j in range(1,len(Testcol[i])):\n",
    "        if Testcol[i][j]=='NA':\n",
    "            Testcol[i][j]=str(m)"
   ]
  },
  {
   "cell_type": "code",
   "execution_count": 10,
   "metadata": {},
   "outputs": [],
   "source": [
    "convertonum(Testcol)"
   ]
  },
  {
   "cell_type": "markdown",
   "metadata": {},
   "source": [
    "Making prediction from the models"
   ]
  },
  {
   "cell_type": "code",
   "execution_count": 11,
   "metadata": {},
   "outputs": [],
   "source": [
    "X=invers(Testcol)\n",
    "x=np.array(X[1:])\n",
    "price1 = model1.predict(x)"
   ]
  },
  {
   "cell_type": "code",
   "execution_count": 12,
   "metadata": {},
   "outputs": [],
   "source": [
    "Col=[]\n",
    "for i in range(len(Testcol)):\n",
    "    if i in Var:\n",
    "        Col.append(Testcol[i][1:])\n",
    "X2=invers(Col)\n",
    "x2=np.array(X2)\n",
    "price2 = model2.predict(x2)"
   ]
  },
  {
   "cell_type": "code",
   "execution_count": 13,
   "metadata": {},
   "outputs": [],
   "source": [
    "with open('C://Users//mypratik//Downloads//house-prices-advanced-regression-techniques//sample_submission_01.csv', 'w') as csvfile:\n",
    "    fieldnames = ['Id', 'SalePrice']\n",
    "    writer = csv.DictWriter(csvfile, fieldnames=fieldnames)\n",
    "    writer.writeheader()\n",
    "    for i in range(len(price1)):\n",
    "        writer.writerow({'Id': i+1461, 'SalePrice': price1[i]})"
   ]
  },
  {
   "cell_type": "code",
   "execution_count": 14,
   "metadata": {},
   "outputs": [],
   "source": [
    "with open('C://Users//mypratik//Downloads//house-prices-advanced-regression-techniques//sample_submission_02.csv', 'w') as csvfile:\n",
    "    fieldnames = ['Id', 'SalePrice']\n",
    "    writer = csv.DictWriter(csvfile, fieldnames=fieldnames)\n",
    "    writer.writeheader()\n",
    "    for i in range(len(price2)):\n",
    "        writer.writerow({'Id': i+1461, 'SalePrice': price2[i]})"
   ]
  },
  {
   "cell_type": "code",
   "execution_count": null,
   "metadata": {},
   "outputs": [],
   "source": []
  }
 ],
 "metadata": {
  "kernelspec": {
   "display_name": "Python 3",
   "language": "python",
   "name": "python3"
  },
  "language_info": {
   "codemirror_mode": {
    "name": "ipython",
    "version": 3
   },
   "file_extension": ".py",
   "mimetype": "text/x-python",
   "name": "python",
   "nbconvert_exporter": "python",
   "pygments_lexer": "ipython3",
   "version": "3.7.3"
  }
 },
 "nbformat": 4,
 "nbformat_minor": 2
}
